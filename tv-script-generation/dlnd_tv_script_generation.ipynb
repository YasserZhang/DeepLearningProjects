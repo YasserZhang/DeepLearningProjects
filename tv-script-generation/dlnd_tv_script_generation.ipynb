{
 "cells": [
  {
   "cell_type": "markdown",
   "metadata": {},
   "source": [
    "# TV Script Generation\n",
    "In this project, you'll generate your own [Simpsons](https://en.wikipedia.org/wiki/The_Simpsons) TV scripts using RNNs.  You'll be using part of the [Simpsons dataset](https://www.kaggle.com/wcukierski/the-simpsons-by-the-data) of scripts from 27 seasons.  The Neural Network you'll build will generate a new TV script for a scene at [Moe's Tavern](https://simpsonswiki.com/wiki/Moe's_Tavern).\n",
    "## Get the Data\n",
    "The data is already provided for you.  You'll be using a subset of the original dataset.  It consists of only the scenes in Moe's Tavern.  This doesn't include other versions of the tavern, like \"Moe's Cavern\", \"Flaming Moe's\", \"Uncle Moe's Family Feed-Bag\", etc.."
   ]
  },
  {
   "cell_type": "code",
   "execution_count": 1,
   "metadata": {},
   "outputs": [],
   "source": [
    "\"\"\"\n",
    "DON'T MODIFY ANYTHING IN THIS CELL\n",
    "\"\"\"\n",
    "import helper\n",
    "\n",
    "data_dir = './data/simpsons/moes_tavern_lines.txt'\n",
    "text = helper.load_data(data_dir)\n",
    "# Ignore notice, since we don't use it for analysing the data\n",
    "text = text[81:]"
   ]
  },
  {
   "cell_type": "markdown",
   "metadata": {},
   "source": [
    "## Explore the Data\n",
    "Play around with `view_sentence_range` to view different parts of the data."
   ]
  },
  {
   "cell_type": "code",
   "execution_count": 2,
   "metadata": {},
   "outputs": [
    {
     "name": "stdout",
     "output_type": "stream",
     "text": [
      "Dataset Stats\n",
      "Roughly the number of unique words: 11492\n",
      "Number of scenes: 262\n",
      "Average number of sentences in each scene: 15.251908396946565\n",
      "Number of lines: 4258\n",
      "Average number of words in each line: 11.50164396430249\n",
      "\n",
      "The sentences 10 to 20:\n",
      "\n",
      "Moe_Szyslak: Ah, isn't that nice. Now, there is a politician who cares.\n",
      "Barney_Gumble: If I ever vote, it'll be for him. (BELCH)\n",
      "\n",
      "\n",
      "Barney_Gumble: Hey Homer, how's your neighbor's store doing?\n",
      "Homer_Simpson: Lousy. He just sits there all day. He'd have a great job if he didn't own the place. (CHUCKLES)\n",
      "Moe_Szyslak: (STRUGGLING WITH CORKSCREW) Crummy right-handed corkscrews! What does he sell?\n",
      "Homer_Simpson: Uh, well actually, Moe...\n",
      "HOMER_(CONT'D: I dunno.\n"
     ]
    }
   ],
   "source": [
    "view_sentence_range = (10, 20)\n",
    "\n",
    "\"\"\"\n",
    "DON'T MODIFY ANYTHING IN THIS CELL\n",
    "\"\"\"\n",
    "import numpy as np\n",
    "\n",
    "print('Dataset Stats')\n",
    "print('Roughly the number of unique words: {}'.format(len({word: None for word in text.split()})))\n",
    "scenes = text.split('\\n\\n')\n",
    "print('Number of scenes: {}'.format(len(scenes)))\n",
    "sentence_count_scene = [scene.count('\\n') for scene in scenes]\n",
    "print('Average number of sentences in each scene: {}'.format(np.average(sentence_count_scene)))\n",
    "\n",
    "sentences = [sentence for scene in scenes for sentence in scene.split('\\n')]\n",
    "print('Number of lines: {}'.format(len(sentences)))\n",
    "word_count_sentence = [len(sentence.split()) for sentence in sentences]\n",
    "print('Average number of words in each line: {}'.format(np.average(word_count_sentence)))\n",
    "\n",
    "print()\n",
    "print('The sentences {} to {}:'.format(*view_sentence_range))\n",
    "print('\\n'.join(text.split('\\n')[view_sentence_range[0]:view_sentence_range[1]]))"
   ]
  },
  {
   "cell_type": "markdown",
   "metadata": {},
   "source": [
    "## Implement Preprocessing Functions\n",
    "The first thing to do to any dataset is preprocessing.  Implement the following preprocessing functions below:\n",
    "- Lookup Table\n",
    "- Tokenize Punctuation\n",
    "\n",
    "### Lookup Table\n",
    "To create a word embedding, you first need to transform the words to ids.  In this function, create two dictionaries:\n",
    "- Dictionary to go from the words to an id, we'll call `vocab_to_int`\n",
    "- Dictionary to go from the id to word, we'll call `int_to_vocab`\n",
    "\n",
    "Return these dictionaries in the following tuple `(vocab_to_int, int_to_vocab)`"
   ]
  },
  {
   "cell_type": "code",
   "execution_count": 3,
   "metadata": {},
   "outputs": [
    {
     "name": "stdout",
     "output_type": "stream",
     "text": [
      "Tests Passed\n"
     ]
    }
   ],
   "source": [
    "import numpy as np\n",
    "import problem_unittests as tests\n",
    "\n",
    "def create_lookup_tables(text):\n",
    "    \"\"\"\n",
    "    Create lookup tables for vocabulary\n",
    "    :param text: The text of tv scripts split into words\n",
    "    :return: A tuple of dicts (vocab_to_int, int_to_vocab)\n",
    "    \"\"\"\n",
    "    # TODO: Implement Function\n",
    "    text = set(text)\n",
    "    vocab_to_int = {c: i for i, c in enumerate(text)}\n",
    "    int_to_vocab = dict(enumerate(text))\n",
    "    return vocab_to_int, int_to_vocab\n",
    "\n",
    "\n",
    "\"\"\"\n",
    "DON'T MODIFY ANYTHING IN THIS CELL THAT IS BELOW THIS LINE\n",
    "\"\"\"\n",
    "tests.test_create_lookup_tables(create_lookup_tables)"
   ]
  },
  {
   "cell_type": "markdown",
   "metadata": {},
   "source": [
    "### Tokenize Punctuation\n",
    "We'll be splitting the script into a word array using spaces as delimiters.  However, punctuations like periods and exclamation marks make it hard for the neural network to distinguish between the word \"bye\" and \"bye!\".\n",
    "\n",
    "Implement the function `token_lookup` to return a dict that will be used to tokenize symbols like \"!\" into \"||Exclamation_Mark||\".  Create a dictionary for the following symbols where the symbol is the key and value is the token:\n",
    "- Period ( . )\n",
    "- Comma ( , )\n",
    "- Quotation Mark ( \" )\n",
    "- Semicolon ( ; )\n",
    "- Exclamation mark ( ! )\n",
    "- Question mark ( ? )\n",
    "- Left Parentheses ( ( )\n",
    "- Right Parentheses ( ) )\n",
    "- Dash ( -- )\n",
    "- Return ( \\n )\n",
    "\n",
    "This dictionary will be used to token the symbols and add the delimiter (space) around it.  This separates the symbols as it's own word, making it easier for the neural network to predict on the next word. Make sure you don't use a token that could be confused as a word. Instead of using the token \"dash\", try using something like \"||dash||\"."
   ]
  },
  {
   "cell_type": "code",
   "execution_count": 4,
   "metadata": {},
   "outputs": [
    {
     "name": "stdout",
     "output_type": "stream",
     "text": [
      "Tests Passed\n"
     ]
    }
   ],
   "source": [
    "def token_lookup():\n",
    "    \"\"\"\n",
    "    Generate a dict to turn punctuation into a token.\n",
    "    :return: Tokenize dictionary where the key is the punctuation and the value is the token\n",
    "    \"\"\"\n",
    "    # TODO: Implement Function\n",
    "    token_dict = {\n",
    "        '.':'||Period||',\n",
    "        ',':'||Comma||',\n",
    "        '\"': '||Quotation||',\n",
    "        ';': '||Semicolon||',\n",
    "        '!': '||Exclamation||',\n",
    "        '?': '||Question||',\n",
    "        '(': '||LeftParen||',\n",
    "        ')': '||RightParen||',\n",
    "        '--': '||Dash||',\n",
    "        '\\n': '||Return||'\n",
    "    }\n",
    "    return token_dict\n",
    "\n",
    "\"\"\"\n",
    "DON'T MODIFY ANYTHING IN THIS CELL THAT IS BELOW THIS LINE\n",
    "\"\"\"\n",
    "tests.test_tokenize(token_lookup)"
   ]
  },
  {
   "cell_type": "markdown",
   "metadata": {},
   "source": [
    "## Preprocess all the data and save it\n",
    "Running the code cell below will preprocess all the data and save it to file."
   ]
  },
  {
   "cell_type": "code",
   "execution_count": 5,
   "metadata": {},
   "outputs": [],
   "source": [
    "\"\"\"\n",
    "DON'T MODIFY ANYTHING IN THIS CELL\n",
    "\"\"\"\n",
    "# Preprocess Training, Validation, and Testing Data\n",
    "helper.preprocess_and_save_data(data_dir, token_lookup, create_lookup_tables)"
   ]
  },
  {
   "cell_type": "markdown",
   "metadata": {},
   "source": [
    "# Check Point\n",
    "This is your first checkpoint. If you ever decide to come back to this notebook or have to restart the notebook, you can start from here. The preprocessed data has been saved to disk."
   ]
  },
  {
   "cell_type": "code",
   "execution_count": 1,
   "metadata": {},
   "outputs": [],
   "source": [
    "\"\"\"\n",
    "DON'T MODIFY ANYTHING IN THIS CELL\n",
    "\"\"\"\n",
    "import helper\n",
    "import numpy as np\n",
    "import problem_unittests as tests\n",
    "\n",
    "int_text, vocab_to_int, int_to_vocab, token_dict = helper.load_preprocess()"
   ]
  },
  {
   "cell_type": "markdown",
   "metadata": {},
   "source": [
    "## Build the Neural Network\n",
    "You'll build the components necessary to build a RNN by implementing the following functions below:\n",
    "- get_inputs\n",
    "- get_init_cell\n",
    "- get_embed\n",
    "- build_rnn\n",
    "- build_nn\n",
    "- get_batches\n",
    "\n",
    "### Check the Version of TensorFlow and Access to GPU"
   ]
  },
  {
   "cell_type": "code",
   "execution_count": 3,
   "metadata": {},
   "outputs": [
    {
     "name": "stdout",
     "output_type": "stream",
     "text": [
      "TensorFlow Version: 1.4.0\n",
      "Default GPU Device: /device:GPU:0\n"
     ]
    }
   ],
   "source": [
    "\"\"\"\n",
    "DON'T MODIFY ANYTHING IN THIS CELL\n",
    "\"\"\"\n",
    "from distutils.version import LooseVersion\n",
    "import warnings\n",
    "import tensorflow as tf\n",
    "\n",
    "# Check TensorFlow Version\n",
    "assert LooseVersion(tf.__version__) >= LooseVersion('1.0'), 'Please use TensorFlow version 1.0 or newer'\n",
    "print('TensorFlow Version: {}'.format(tf.__version__))\n",
    "\n",
    "# Check for a GPU\n",
    "if not tf.test.gpu_device_name():\n",
    "    warnings.warn('No GPU found. Please use a GPU to train your neural network.')\n",
    "else:\n",
    "    print('Default GPU Device: {}'.format(tf.test.gpu_device_name()))"
   ]
  },
  {
   "cell_type": "markdown",
   "metadata": {},
   "source": [
    "### Input\n",
    "Implement the `get_inputs()` function to create TF Placeholders for the Neural Network.  It should create the following placeholders:\n",
    "- Input text placeholder named \"input\" using the [TF Placeholder](https://www.tensorflow.org/api_docs/python/tf/placeholder) `name` parameter.\n",
    "- Targets placeholder\n",
    "- Learning Rate placeholder\n",
    "\n",
    "Return the placeholders in the following tuple `(Input, Targets, LearningRate)`"
   ]
  },
  {
   "cell_type": "code",
   "execution_count": 4,
   "metadata": {},
   "outputs": [
    {
     "name": "stdout",
     "output_type": "stream",
     "text": [
      "Tests Passed\n"
     ]
    }
   ],
   "source": [
    "def get_inputs():\n",
    "    \"\"\"\n",
    "    Create TF Placeholders for input, targets, and learning rate.\n",
    "    :return: Tuple (input, targets, learning rate)\n",
    "    \"\"\"\n",
    "    # TODO: Implement Function\n",
    "    inputs = tf.placeholder(tf.int32, [None, None],name = 'input')\n",
    "    targets = tf.placeholder(tf.int32, [None, None],name = 'targets')\n",
    "    lr = tf.placeholder(tf.float32, name = 'learning_rate')\n",
    "    return (inputs, targets, lr)\n",
    "\n",
    "\n",
    "\"\"\"\n",
    "DON'T MODIFY ANYTHING IN THIS CELL THAT IS BELOW THIS LINE\n",
    "\"\"\"\n",
    "tests.test_get_inputs(get_inputs)"
   ]
  },
  {
   "cell_type": "markdown",
   "metadata": {},
   "source": [
    "### Build RNN Cell and Initialize\n",
    "Stack one or more [`BasicLSTMCells`](https://www.tensorflow.org/api_docs/python/tf/contrib/rnn/BasicLSTMCell) in a [`MultiRNNCell`](https://www.tensorflow.org/api_docs/python/tf/contrib/rnn/MultiRNNCell).\n",
    "- The Rnn size should be set using `rnn_size`\n",
    "- Initalize Cell State using the MultiRNNCell's [`zero_state()`](https://www.tensorflow.org/api_docs/python/tf/contrib/rnn/MultiRNNCell#zero_state) function\n",
    "    - Apply the name \"initial_state\" to the initial state using [`tf.identity()`](https://www.tensorflow.org/api_docs/python/tf/identity)\n",
    "\n",
    "Return the cell and initial state in the following tuple `(Cell, InitialState)`"
   ]
  },
  {
   "cell_type": "code",
   "execution_count": 5,
   "metadata": {},
   "outputs": [
    {
     "name": "stdout",
     "output_type": "stream",
     "text": [
      "Tests Passed\n"
     ]
    }
   ],
   "source": [
    "def get_init_cell(batch_size, rnn_size):\n",
    "    \"\"\"\n",
    "    Create an RNN Cell and initialize it.\n",
    "    :param batch_size: Size of batches\n",
    "    :param rnn_size: Size of RNNs\n",
    "    :return: Tuple (cell, initialize state)\n",
    "    \"\"\"\n",
    "    # TODO: Implement Function\n",
    "    #lstm = tf.contrib.rnn.BasicLSTMCell(rnn_size)\n",
    "    #two layers\n",
    "    number_of_layers = 2\n",
    "    def lstm_cell():\n",
    "        return tf.contrib.rnn.BasicLSTMCell(rnn_size)\n",
    "    cell = tf.contrib.rnn.MultiRNNCell(\n",
    "                [lstm_cell() for _ in range(number_of_layers)])\n",
    "    #cell = tf.contrib.rnn.MultiRNNCell([tf.contrib.rnn.BasicLSTMCell(rnn_size), tf.contrib.rnn.BasicLSTMCell(rnn_size)])\n",
    "    initial_state = cell.zero_state(batch_size, tf.float32)\n",
    "    initial_state = tf.identity(initial_state, name = 'initial_state')\n",
    "    return (cell, initial_state)\n",
    "\n",
    "\n",
    "\"\"\"\n",
    "DON'T MODIFY ANYTHING IN THIS CELL THAT IS BELOW THIS LINE\n",
    "\"\"\"\n",
    "tests.test_get_init_cell(get_init_cell)"
   ]
  },
  {
   "cell_type": "markdown",
   "metadata": {},
   "source": [
    "### Word Embedding\n",
    "Apply embedding to `input_data` using TensorFlow.  Return the embedded sequence."
   ]
  },
  {
   "cell_type": "code",
   "execution_count": 6,
   "metadata": {},
   "outputs": [
    {
     "name": "stdout",
     "output_type": "stream",
     "text": [
      "Tests Passed\n"
     ]
    }
   ],
   "source": [
    "def get_embed(input_data, vocab_size, embed_dim):\n",
    "    \"\"\"\n",
    "    Create embedding for <input_data>.\n",
    "    :param input_data: TF placeholder for text input.\n",
    "    :param vocab_size: Number of words in vocabulary.\n",
    "    :param embed_dim: Number of embedding dimensions\n",
    "    :return: Embedded input.\n",
    "    \"\"\"\n",
    "    # TODO: Implement Function\n",
    "    embedding = tf.Variable(tf.random_uniform((vocab_size, embed_dim), -1, 1))\n",
    "    embed = tf.nn.embedding_lookup(embedding, input_data)\n",
    "    return embed\n",
    "\n",
    "\n",
    "\"\"\"\n",
    "DON'T MODIFY ANYTHING IN THIS CELL THAT IS BELOW THIS LINE\n",
    "\"\"\"\n",
    "tests.test_get_embed(get_embed)"
   ]
  },
  {
   "cell_type": "markdown",
   "metadata": {},
   "source": [
    "### Build RNN\n",
    "You created a RNN Cell in the `get_init_cell()` function.  Time to use the cell to create a RNN.\n",
    "- Build the RNN using the [`tf.nn.dynamic_rnn()`](https://www.tensorflow.org/api_docs/python/tf/nn/dynamic_rnn)\n",
    " - Apply the name \"final_state\" to the final state using [`tf.identity()`](https://www.tensorflow.org/api_docs/python/tf/identity)\n",
    "\n",
    "Return the outputs and final_state state in the following tuple `(Outputs, FinalState)` "
   ]
  },
  {
   "cell_type": "code",
   "execution_count": 7,
   "metadata": {},
   "outputs": [
    {
     "name": "stdout",
     "output_type": "stream",
     "text": [
      "Tests Passed\n"
     ]
    }
   ],
   "source": [
    "def build_rnn(cell, inputs):\n",
    "    \"\"\"\n",
    "    Create a RNN using a RNN Cell\n",
    "    :param cell: RNN Cell\n",
    "    :param inputs: Input text data\n",
    "    :return: Tuple (Outputs, Final State)\n",
    "    \"\"\"\n",
    "    # TODO: Implement Function\n",
    "    outputs, final_state = tf.nn.dynamic_rnn(cell, inputs, dtype = tf.float32)\n",
    "    final_state = tf.identity(final_state, name = 'final_state')\n",
    "    return (outputs, final_state)\n",
    "\n",
    "\n",
    "\"\"\"\n",
    "DON'T MODIFY ANYTHING IN THIS CELL THAT IS BELOW THIS LINE\n",
    "\"\"\"\n",
    "tests.test_build_rnn(build_rnn)"
   ]
  },
  {
   "cell_type": "markdown",
   "metadata": {},
   "source": [
    "### Build the Neural Network\n",
    "Apply the functions you implemented above to:\n",
    "- Apply embedding to `input_data` using your `get_embed(input_data, vocab_size, embed_dim)` function.\n",
    "- Build RNN using `cell` and your `build_rnn(cell, inputs)` function.\n",
    "- Apply a fully connected layer with a linear activation and `vocab_size` as the number of outputs.\n",
    "\n",
    "Return the logits and final state in the following tuple (Logits, FinalState) "
   ]
  },
  {
   "cell_type": "code",
   "execution_count": 8,
   "metadata": {},
   "outputs": [
    {
     "data": {
      "text/plain": [
       "\"\\nDON'T MODIFY ANYTHING IN THIS CELL THAT IS BELOW THIS LINE\\n\""
      ]
     },
     "execution_count": 8,
     "metadata": {},
     "output_type": "execute_result"
    }
   ],
   "source": [
    "def build_nn(cell, rnn_size, input_data, vocab_size, embed_dim):\n",
    "    \"\"\"\n",
    "    Build part of the neural network\n",
    "    :param cell: RNN cell\n",
    "    :param rnn_size: Size of rnns\n",
    "    :param input_data: Input data\n",
    "    :param vocab_size: Vocabulary size\n",
    "    :param embed_dim: Number of embedding dimensions\n",
    "    :return: Tuple (Logits, FinalState)\n",
    "    \"\"\"\n",
    "    # TODO: Implement Function\n",
    "    embedding_layer = get_embed(input_data, vocab_size, embed_dim)\n",
    "    output, final_state = build_rnn(cell, embedding_layer)\n",
    "    #logits = tf.contrib.layers.fully_connected(output, vocab_size, activation_fn=None)\n",
    "    logits = tf.layers.dense(output, vocab_size, activation = None, use_bias = True)\n",
    "    return logits, final_state\n",
    "\n",
    "\n",
    "\"\"\"\n",
    "DON'T MODIFY ANYTHING IN THIS CELL THAT IS BELOW THIS LINE\n",
    "\"\"\"\n",
    "#tests.test_build_nn(build_nn)"
   ]
  },
  {
   "cell_type": "markdown",
   "metadata": {},
   "source": [
    "### Batches\n",
    "Implement `get_batches` to create batches of input and targets using `int_text`.  The batches should be a Numpy array with the shape `(number of batches, 2, batch size, sequence length)`. Each batch contains two elements:\n",
    "- The first element is a single batch of **input** with the shape `[batch size, sequence length]`\n",
    "- The second element is a single batch of **targets** with the shape `[batch size, sequence length]`\n",
    "\n",
    "If you can't fill the last batch with enough data, drop the last batch.\n",
    "\n",
    "For exmple, `get_batches([1, 2, 3, 4, 5, 6, 7, 8, 9, 10, 11, 12, 13, 14, 15, 16, 17, 18, 19, 20], 3, 2)` would return a Numpy array of the following:\n",
    "```\n",
    "[\n",
    "  # First Batch\n",
    "  [\n",
    "    # Batch of Input\n",
    "    [[ 1  2], [ 7  8], [13 14]]\n",
    "    # Batch of targets\n",
    "    [[ 2  3], [ 8  9], [14 15]]\n",
    "  ]\n",
    "\n",
    "  # Second Batch\n",
    "  [\n",
    "    # Batch of Input\n",
    "    [[ 3  4], [ 9 10], [15 16]]\n",
    "    # Batch of targets\n",
    "    [[ 4  5], [10 11], [16 17]]\n",
    "  ]\n",
    "\n",
    "  # Third Batch\n",
    "  [\n",
    "    # Batch of Input\n",
    "    [[ 5  6], [11 12], [17 18]]\n",
    "    # Batch of targets\n",
    "    [[ 6  7], [12 13], [18  1]]\n",
    "  ]\n",
    "]\n",
    "```\n",
    "\n",
    "Notice that the last target value in the last batch is the first input value of the first batch. In this case, `1`. This is a common technique used when creating sequence batches, although it is rather unintuitive."
   ]
  },
  {
   "cell_type": "code",
   "execution_count": 9,
   "metadata": {},
   "outputs": [
    {
     "name": "stdout",
     "output_type": "stream",
     "text": [
      "Tests Passed\n"
     ]
    }
   ],
   "source": [
    "def get_batches(int_text, batch_size, seq_length):\n",
    "    \"\"\"\n",
    "    Return batches of input and target\n",
    "    :param int_text: Text with the words replaced by their ids\n",
    "    :param batch_size: The size of batch\n",
    "    :param seq_length: The length of sequence\n",
    "    :return: Batches as a Numpy array\n",
    "    \"\"\"\n",
    "    # TODO: Implement Function\n",
    "    n_batches = len(int_text) // (batch_size * seq_length)\n",
    "    xdata = np.array(int_text[: n_batches * batch_size * seq_length])\n",
    "    ydata = np.array(int_text[1: n_batches * batch_size * seq_length + 1])\n",
    "    x_batches = np.split(xdata.reshape(batch_size, -1), n_batches, 1)\n",
    "    y_batches = np.split(ydata.reshape(batch_size, -1), n_batches, 1)\n",
    "    x_batches = np.array(x_batches)\n",
    "    y_batches = np.array(y_batches)\n",
    "    y_batches[-1,-1,-1] = x_batches[0,0,0]\n",
    "    return np.asarray(list(zip(x_batches, y_batches)))\n",
    "    \n",
    "    '''\n",
    "    n_batches = len(int_text)//(batch_size * seq_length)\n",
    "    x = int_text[:n_batches*batch_size*seq_length]\n",
    "    y = int_text[1:n_batches*batch_size*seq_length+1]\n",
    "    batches_x = []\n",
    "    batches_y = []\n",
    "    for ii in range(0, len(x), batch_size*seq_length):\n",
    "        temp_x = []\n",
    "        temp_y = []\n",
    "        for jj in range(ii, ii + batch_size*seq_length, seq_length):\n",
    "            temp_x.append(x[jj:jj+seq_length])\n",
    "            temp_y.append(y[jj:jj+seq_length])\n",
    "        batches_x.append(np.array(temp_x))\n",
    "        batches_y.append(np.array(temp_y))\n",
    "    return np.array(list(zip(np.array(batches_x), np.array(batches_y))))\n",
    "    '''\n",
    "\n",
    "\"\"\"\n",
    "DON'T MODIFY ANYTHING IN THIS CELL THAT IS BELOW THIS LINE\n",
    "\"\"\"\n",
    "tests.test_get_batches(get_batches)"
   ]
  },
  {
   "cell_type": "code",
   "execution_count": 9,
   "metadata": {},
   "outputs": [
    {
     "name": "stdout",
     "output_type": "stream",
     "text": [
      "[array([[ 0,  1],\n",
      "       [32, 33],\n",
      "       [64, 65]]), array([[ 2,  3],\n",
      "       [34, 35],\n",
      "       [66, 67]]), array([[ 4,  5],\n",
      "       [36, 37],\n",
      "       [68, 69]]), array([[ 6,  7],\n",
      "       [38, 39],\n",
      "       [70, 71]]), array([[ 8,  9],\n",
      "       [40, 41],\n",
      "       [72, 73]]), array([[10, 11],\n",
      "       [42, 43],\n",
      "       [74, 75]]), array([[12, 13],\n",
      "       [44, 45],\n",
      "       [76, 77]]), array([[14, 15],\n",
      "       [46, 47],\n",
      "       [78, 79]]), array([[16, 17],\n",
      "       [48, 49],\n",
      "       [80, 81]]), array([[18, 19],\n",
      "       [50, 51],\n",
      "       [82, 83]]), array([[20, 21],\n",
      "       [52, 53],\n",
      "       [84, 85]]), array([[22, 23],\n",
      "       [54, 55],\n",
      "       [86, 87]]), array([[24, 25],\n",
      "       [56, 57],\n",
      "       [88, 89]]), array([[26, 27],\n",
      "       [58, 59],\n",
      "       [90, 91]]), array([[28, 29],\n",
      "       [60, 61],\n",
      "       [92, 93]]), array([[30, 31],\n",
      "       [62, 63],\n",
      "       [94, 95]])]\n"
     ]
    }
   ],
   "source": [
    "a = np.arange(0,100)\n",
    "get_batches(a, 3, 2)\n",
    "n_batches = len(a)//(3*2)\n",
    "xdata = a[:n_batches*3*2]\n",
    "print(np.split(xdata.reshape(3, -1), n_batches, 1))"
   ]
  },
  {
   "cell_type": "markdown",
   "metadata": {},
   "source": [
    "## Neural Network Training\n",
    "### Hyperparameters\n",
    "Tune the following parameters:\n",
    "\n",
    "- Set `num_epochs` to the number of epochs.\n",
    "- Set `batch_size` to the batch size.\n",
    "- Set `rnn_size` to the size of the RNNs.\n",
    "- Set `embed_dim` to the size of the embedding.\n",
    "- Set `seq_length` to the length of sequence.\n",
    "- Set `learning_rate` to the learning rate.\n",
    "- Set `show_every_n_batches` to the number of batches the neural network should print progress."
   ]
  },
  {
   "cell_type": "code",
   "execution_count": 10,
   "metadata": {},
   "outputs": [],
   "source": [
    "# Number of Epochs\n",
    "num_epochs = 300\n",
    "# Batch Size\n",
    "batch_size = 512\n",
    "# RNN Size\n",
    "rnn_size = 512\n",
    "# Embedding Dimension Size\n",
    "embed_dim = 100\n",
    "# Sequence Length\n",
    "seq_length = 20\n",
    "# Learning Rate\n",
    "learning_rate = 0.01\n",
    "# Show stats for every n number of batches\n",
    "show_every_n_batches = 5\n",
    "\n",
    "\"\"\"\n",
    "DON'T MODIFY ANYTHING IN THIS CELL THAT IS BELOW THIS LINE\n",
    "\"\"\"\n",
    "save_dir = './save'"
   ]
  },
  {
   "cell_type": "markdown",
   "metadata": {},
   "source": [
    "### Build the Graph\n",
    "Build the graph using the neural network you implemented."
   ]
  },
  {
   "cell_type": "code",
   "execution_count": 11,
   "metadata": {},
   "outputs": [],
   "source": [
    "\"\"\"\n",
    "DON'T MODIFY ANYTHING IN THIS CELL\n",
    "\"\"\"\n",
    "from tensorflow.contrib import seq2seq\n",
    "\n",
    "train_graph = tf.Graph()\n",
    "with train_graph.as_default():\n",
    "    vocab_size = len(int_to_vocab)\n",
    "    input_text, targets, lr = get_inputs()\n",
    "    input_data_shape = tf.shape(input_text)\n",
    "    cell, initial_state = get_init_cell(input_data_shape[0], rnn_size)\n",
    "    logits, final_state = build_nn(cell, rnn_size, input_text, vocab_size, embed_dim)\n",
    "\n",
    "    # Probabilities for generating words\n",
    "    probs = tf.nn.softmax(logits, name='probs')\n",
    "\n",
    "    # Loss function\n",
    "    cost = seq2seq.sequence_loss(\n",
    "        logits,\n",
    "        targets,\n",
    "        tf.ones([input_data_shape[0], input_data_shape[1]]))\n",
    "\n",
    "    # Optimizer\n",
    "    optimizer = tf.train.AdamOptimizer(lr)\n",
    "\n",
    "    # Gradient Clipping\n",
    "    gradients = optimizer.compute_gradients(cost)\n",
    "    capped_gradients = [(tf.clip_by_value(grad, -1., 1.), var) for grad, var in gradients if grad is not None]\n",
    "    train_op = optimizer.apply_gradients(capped_gradients)"
   ]
  },
  {
   "cell_type": "markdown",
   "metadata": {},
   "source": [
    "## Train\n",
    "Train the neural network on the preprocessed data.  If you have a hard time getting a good loss, check the [forums](https://discussions.udacity.com/) to see if anyone is having the same problem."
   ]
  },
  {
   "cell_type": "code",
   "execution_count": 13,
   "metadata": {},
   "outputs": [
    {
     "name": "stdout",
     "output_type": "stream",
     "text": [
      "Epoch   0 Batch    0/6   train_loss = 8.822\n",
      "Epoch   0 Batch    5/6   train_loss = 6.594\n",
      "Epoch   1 Batch    4/6   train_loss = 6.036\n",
      "Epoch   2 Batch    3/6   train_loss = 6.090\n",
      "Epoch   3 Batch    2/6   train_loss = 5.968\n",
      "Epoch   4 Batch    1/6   train_loss = 5.975\n",
      "Epoch   5 Batch    0/6   train_loss = 5.916\n",
      "Epoch   5 Batch    5/6   train_loss = 5.848\n",
      "Epoch   6 Batch    4/6   train_loss = 5.836\n",
      "Epoch   7 Batch    3/6   train_loss = 5.804\n",
      "Epoch   8 Batch    2/6   train_loss = 5.709\n",
      "Epoch   9 Batch    1/6   train_loss = 5.697\n",
      "Epoch  10 Batch    0/6   train_loss = 5.566\n",
      "Epoch  10 Batch    5/6   train_loss = 5.500\n",
      "Epoch  11 Batch    4/6   train_loss = 5.453\n",
      "Epoch  12 Batch    3/6   train_loss = 5.392\n",
      "Epoch  13 Batch    2/6   train_loss = 5.325\n",
      "Epoch  14 Batch    1/6   train_loss = 5.298\n",
      "Epoch  15 Batch    0/6   train_loss = 5.198\n",
      "Epoch  15 Batch    5/6   train_loss = 5.145\n",
      "Epoch  16 Batch    4/6   train_loss = 5.112\n",
      "Epoch  17 Batch    3/6   train_loss = 5.072\n",
      "Epoch  18 Batch    2/6   train_loss = 5.015\n",
      "Epoch  19 Batch    1/6   train_loss = 4.964\n",
      "Epoch  20 Batch    0/6   train_loss = 4.890\n",
      "Epoch  20 Batch    5/6   train_loss = 4.833\n",
      "Epoch  21 Batch    4/6   train_loss = 4.828\n",
      "Epoch  22 Batch    3/6   train_loss = 4.821\n",
      "Epoch  23 Batch    2/6   train_loss = 4.734\n",
      "Epoch  24 Batch    1/6   train_loss = 4.701\n",
      "Epoch  25 Batch    0/6   train_loss = 4.633\n",
      "Epoch  25 Batch    5/6   train_loss = 4.610\n",
      "Epoch  26 Batch    4/6   train_loss = 4.594\n",
      "Epoch  27 Batch    3/6   train_loss = 4.576\n",
      "Epoch  28 Batch    2/6   train_loss = 4.515\n",
      "Epoch  29 Batch    1/6   train_loss = 4.480\n",
      "Epoch  30 Batch    0/6   train_loss = 4.418\n",
      "Epoch  30 Batch    5/6   train_loss = 4.366\n",
      "Epoch  31 Batch    4/6   train_loss = 4.378\n",
      "Epoch  32 Batch    3/6   train_loss = 4.348\n",
      "Epoch  33 Batch    2/6   train_loss = 4.292\n",
      "Epoch  34 Batch    1/6   train_loss = 4.260\n",
      "Epoch  35 Batch    0/6   train_loss = 4.236\n",
      "Epoch  35 Batch    5/6   train_loss = 4.174\n",
      "Epoch  36 Batch    4/6   train_loss = 4.194\n",
      "Epoch  37 Batch    3/6   train_loss = 4.130\n",
      "Epoch  38 Batch    2/6   train_loss = 4.102\n",
      "Epoch  39 Batch    1/6   train_loss = 4.053\n",
      "Epoch  40 Batch    0/6   train_loss = 4.042\n",
      "Epoch  40 Batch    5/6   train_loss = 3.994\n",
      "Epoch  41 Batch    4/6   train_loss = 3.979\n",
      "Epoch  42 Batch    3/6   train_loss = 4.086\n",
      "Epoch  43 Batch    2/6   train_loss = 3.951\n",
      "Epoch  44 Batch    1/6   train_loss = 3.901\n",
      "Epoch  45 Batch    0/6   train_loss = 3.862\n",
      "Epoch  45 Batch    5/6   train_loss = 3.803\n",
      "Epoch  46 Batch    4/6   train_loss = 3.814\n",
      "Epoch  47 Batch    3/6   train_loss = 3.779\n",
      "Epoch  48 Batch    2/6   train_loss = 3.734\n",
      "Epoch  49 Batch    1/6   train_loss = 3.705\n",
      "Epoch  50 Batch    0/6   train_loss = 3.697\n",
      "Epoch  50 Batch    5/6   train_loss = 3.684\n",
      "Epoch  51 Batch    4/6   train_loss = 3.685\n",
      "Epoch  52 Batch    3/6   train_loss = 3.739\n",
      "Epoch  53 Batch    2/6   train_loss = 3.657\n",
      "Epoch  54 Batch    1/6   train_loss = 3.727\n",
      "Epoch  55 Batch    0/6   train_loss = 3.661\n",
      "Epoch  55 Batch    5/6   train_loss = 3.623\n",
      "Epoch  56 Batch    4/6   train_loss = 3.584\n",
      "Epoch  57 Batch    3/6   train_loss = 3.489\n",
      "Epoch  58 Batch    2/6   train_loss = 3.446\n",
      "Epoch  59 Batch    1/6   train_loss = 3.372\n",
      "Epoch  60 Batch    0/6   train_loss = 3.412\n",
      "Epoch  60 Batch    5/6   train_loss = 3.312\n",
      "Epoch  61 Batch    4/6   train_loss = 3.362\n",
      "Epoch  62 Batch    3/6   train_loss = 3.309\n",
      "Epoch  63 Batch    2/6   train_loss = 3.372\n",
      "Epoch  64 Batch    1/6   train_loss = 3.301\n",
      "Epoch  65 Batch    0/6   train_loss = 3.596\n",
      "Epoch  65 Batch    5/6   train_loss = 3.344\n",
      "Epoch  66 Batch    4/6   train_loss = 3.438\n",
      "Epoch  67 Batch    3/6   train_loss = 3.340\n",
      "Epoch  68 Batch    2/6   train_loss = 3.201\n",
      "Epoch  69 Batch    1/6   train_loss = 3.207\n",
      "Epoch  70 Batch    0/6   train_loss = 3.199\n",
      "Epoch  70 Batch    5/6   train_loss = 3.216\n",
      "Epoch  71 Batch    4/6   train_loss = 3.120\n",
      "Epoch  72 Batch    3/6   train_loss = 3.249\n",
      "Epoch  73 Batch    2/6   train_loss = 3.163\n",
      "Epoch  74 Batch    1/6   train_loss = 2.962\n",
      "Epoch  75 Batch    0/6   train_loss = 3.013\n",
      "Epoch  75 Batch    5/6   train_loss = 2.921\n",
      "Epoch  76 Batch    4/6   train_loss = 2.946\n",
      "Epoch  77 Batch    3/6   train_loss = 2.866\n",
      "Epoch  78 Batch    2/6   train_loss = 2.823\n",
      "Epoch  79 Batch    1/6   train_loss = 2.763\n",
      "Epoch  80 Batch    0/6   train_loss = 2.836\n",
      "Epoch  80 Batch    5/6   train_loss = 2.759\n",
      "Epoch  81 Batch    4/6   train_loss = 2.770\n",
      "Epoch  82 Batch    3/6   train_loss = 2.787\n",
      "Epoch  83 Batch    2/6   train_loss = 2.710\n",
      "Epoch  84 Batch    1/6   train_loss = 2.715\n",
      "Epoch  85 Batch    0/6   train_loss = 2.780\n",
      "Epoch  85 Batch    5/6   train_loss = 2.641\n",
      "Epoch  86 Batch    4/6   train_loss = 2.726\n",
      "Epoch  87 Batch    3/6   train_loss = 2.625\n",
      "Epoch  88 Batch    2/6   train_loss = 2.554\n",
      "Epoch  89 Batch    1/6   train_loss = 2.492\n",
      "Epoch  90 Batch    0/6   train_loss = 2.579\n",
      "Epoch  90 Batch    5/6   train_loss = 2.431\n",
      "Epoch  91 Batch    4/6   train_loss = 2.483\n",
      "Epoch  92 Batch    3/6   train_loss = 2.440\n",
      "Epoch  93 Batch    2/6   train_loss = 2.402\n",
      "Epoch  94 Batch    1/6   train_loss = 2.334\n",
      "Epoch  95 Batch    0/6   train_loss = 2.507\n",
      "Epoch  95 Batch    5/6   train_loss = 2.340\n",
      "Epoch  96 Batch    4/6   train_loss = 2.518\n",
      "Epoch  97 Batch    3/6   train_loss = 2.382\n",
      "Epoch  98 Batch    2/6   train_loss = 2.370\n",
      "Epoch  99 Batch    1/6   train_loss = 2.317\n",
      "Epoch 100 Batch    0/6   train_loss = 2.321\n",
      "Epoch 100 Batch    5/6   train_loss = 2.247\n",
      "Epoch 101 Batch    4/6   train_loss = 2.265\n",
      "Epoch 102 Batch    3/6   train_loss = 2.183\n",
      "Epoch 103 Batch    2/6   train_loss = 2.157\n",
      "Epoch 104 Batch    1/6   train_loss = 2.068\n",
      "Epoch 105 Batch    0/6   train_loss = 2.151\n",
      "Epoch 105 Batch    5/6   train_loss = 2.078\n",
      "Epoch 106 Batch    4/6   train_loss = 2.116\n",
      "Epoch 107 Batch    3/6   train_loss = 2.062\n",
      "Epoch 108 Batch    2/6   train_loss = 2.068\n",
      "Epoch 109 Batch    1/6   train_loss = 2.034\n",
      "Epoch 110 Batch    0/6   train_loss = 2.062\n",
      "Epoch 110 Batch    5/6   train_loss = 2.025\n",
      "Epoch 111 Batch    4/6   train_loss = 2.041\n",
      "Epoch 112 Batch    3/6   train_loss = 1.937\n",
      "Epoch 113 Batch    2/6   train_loss = 1.956\n",
      "Epoch 114 Batch    1/6   train_loss = 1.868\n",
      "Epoch 115 Batch    0/6   train_loss = 1.929\n",
      "Epoch 115 Batch    5/6   train_loss = 1.799\n",
      "Epoch 116 Batch    4/6   train_loss = 1.849\n",
      "Epoch 117 Batch    3/6   train_loss = 1.806\n",
      "Epoch 118 Batch    2/6   train_loss = 1.745\n",
      "Epoch 119 Batch    1/6   train_loss = 1.700\n",
      "Epoch 120 Batch    0/6   train_loss = 1.748\n",
      "Epoch 120 Batch    5/6   train_loss = 1.688\n",
      "Epoch 121 Batch    4/6   train_loss = 1.718\n",
      "Epoch 122 Batch    3/6   train_loss = 1.658\n",
      "Epoch 123 Batch    2/6   train_loss = 1.718\n",
      "Epoch 124 Batch    1/6   train_loss = 1.625\n",
      "Epoch 125 Batch    0/6   train_loss = 1.698\n",
      "Epoch 125 Batch    5/6   train_loss = 1.614\n",
      "Epoch 126 Batch    4/6   train_loss = 1.681\n",
      "Epoch 127 Batch    3/6   train_loss = 1.568\n",
      "Epoch 128 Batch    2/6   train_loss = 1.582\n",
      "Epoch 129 Batch    1/6   train_loss = 1.501\n",
      "Epoch 130 Batch    0/6   train_loss = 1.569\n",
      "Epoch 130 Batch    5/6   train_loss = 1.508\n",
      "Epoch 131 Batch    4/6   train_loss = 1.497\n",
      "Epoch 132 Batch    3/6   train_loss = 1.482\n",
      "Epoch 133 Batch    2/6   train_loss = 1.434\n",
      "Epoch 134 Batch    1/6   train_loss = 1.413\n",
      "Epoch 135 Batch    0/6   train_loss = 1.475\n",
      "Epoch 135 Batch    5/6   train_loss = 1.352\n",
      "Epoch 136 Batch    4/6   train_loss = 1.406\n",
      "Epoch 137 Batch    3/6   train_loss = 1.324\n",
      "Epoch 138 Batch    2/6   train_loss = 1.277\n",
      "Epoch 139 Batch    1/6   train_loss = 1.219\n",
      "Epoch 140 Batch    0/6   train_loss = 1.260\n",
      "Epoch 140 Batch    5/6   train_loss = 1.187\n",
      "Epoch 141 Batch    4/6   train_loss = 1.202\n",
      "Epoch 142 Batch    3/6   train_loss = 1.123\n",
      "Epoch 143 Batch    2/6   train_loss = 1.122\n",
      "Epoch 144 Batch    1/6   train_loss = 1.075\n",
      "Epoch 145 Batch    0/6   train_loss = 1.126\n",
      "Epoch 145 Batch    5/6   train_loss = 1.071\n",
      "Epoch 146 Batch    4/6   train_loss = 1.109\n",
      "Epoch 147 Batch    3/6   train_loss = 1.038\n",
      "Epoch 148 Batch    2/6   train_loss = 1.053\n",
      "Epoch 149 Batch    1/6   train_loss = 1.018\n",
      "Epoch 150 Batch    0/6   train_loss = 1.047\n",
      "Epoch 150 Batch    5/6   train_loss = 0.988\n",
      "Epoch 151 Batch    4/6   train_loss = 1.040\n",
      "Epoch 152 Batch    3/6   train_loss = 0.951\n",
      "Epoch 153 Batch    2/6   train_loss = 0.966\n",
      "Epoch 154 Batch    1/6   train_loss = 0.949\n",
      "Epoch 155 Batch    0/6   train_loss = 0.966\n"
     ]
    },
    {
     "name": "stdout",
     "output_type": "stream",
     "text": [
      "Epoch 155 Batch    5/6   train_loss = 0.919\n",
      "Epoch 156 Batch    4/6   train_loss = 0.926\n",
      "Epoch 157 Batch    3/6   train_loss = 0.899\n",
      "Epoch 158 Batch    2/6   train_loss = 0.924\n",
      "Epoch 159 Batch    1/6   train_loss = 0.823\n",
      "Epoch 160 Batch    0/6   train_loss = 0.910\n",
      "Epoch 160 Batch    5/6   train_loss = 0.858\n",
      "Epoch 161 Batch    4/6   train_loss = 0.841\n",
      "Epoch 162 Batch    3/6   train_loss = 0.823\n",
      "Epoch 163 Batch    2/6   train_loss = 0.824\n",
      "Epoch 164 Batch    1/6   train_loss = 0.787\n",
      "Epoch 165 Batch    0/6   train_loss = 0.830\n",
      "Epoch 165 Batch    5/6   train_loss = 0.772\n",
      "Epoch 166 Batch    4/6   train_loss = 0.806\n",
      "Epoch 167 Batch    3/6   train_loss = 0.735\n",
      "Epoch 168 Batch    2/6   train_loss = 0.785\n",
      "Epoch 169 Batch    1/6   train_loss = 0.727\n",
      "Epoch 170 Batch    0/6   train_loss = 0.735\n",
      "Epoch 170 Batch    5/6   train_loss = 0.706\n",
      "Epoch 171 Batch    4/6   train_loss = 0.733\n",
      "Epoch 172 Batch    3/6   train_loss = 0.656\n",
      "Epoch 173 Batch    2/6   train_loss = 0.634\n",
      "Epoch 174 Batch    1/6   train_loss = 0.587\n",
      "Epoch 175 Batch    0/6   train_loss = 0.606\n",
      "Epoch 175 Batch    5/6   train_loss = 0.551\n",
      "Epoch 176 Batch    4/6   train_loss = 0.570\n",
      "Epoch 177 Batch    3/6   train_loss = 0.535\n",
      "Epoch 178 Batch    2/6   train_loss = 0.533\n",
      "Epoch 179 Batch    1/6   train_loss = 0.499\n",
      "Epoch 180 Batch    0/6   train_loss = 0.530\n",
      "Epoch 180 Batch    5/6   train_loss = 0.474\n",
      "Epoch 181 Batch    4/6   train_loss = 0.505\n",
      "Epoch 182 Batch    3/6   train_loss = 0.482\n",
      "Epoch 183 Batch    2/6   train_loss = 0.500\n",
      "Epoch 184 Batch    1/6   train_loss = 0.469\n",
      "Epoch 185 Batch    0/6   train_loss = 0.504\n",
      "Epoch 185 Batch    5/6   train_loss = 0.498\n",
      "Epoch 186 Batch    4/6   train_loss = 0.484\n",
      "Epoch 187 Batch    3/6   train_loss = 0.515\n",
      "Epoch 188 Batch    2/6   train_loss = 0.538\n",
      "Epoch 189 Batch    1/6   train_loss = 0.458\n",
      "Epoch 190 Batch    0/6   train_loss = 0.497\n",
      "Epoch 190 Batch    5/6   train_loss = 0.454\n",
      "Epoch 191 Batch    4/6   train_loss = 0.452\n",
      "Epoch 192 Batch    3/6   train_loss = 0.422\n",
      "Epoch 193 Batch    2/6   train_loss = 0.426\n",
      "Epoch 194 Batch    1/6   train_loss = 0.388\n",
      "Epoch 195 Batch    0/6   train_loss = 0.396\n",
      "Epoch 195 Batch    5/6   train_loss = 0.358\n",
      "Epoch 196 Batch    4/6   train_loss = 0.361\n",
      "Epoch 197 Batch    3/6   train_loss = 0.341\n",
      "Epoch 198 Batch    2/6   train_loss = 0.351\n",
      "Epoch 199 Batch    1/6   train_loss = 0.323\n",
      "Epoch 200 Batch    0/6   train_loss = 0.330\n",
      "Epoch 200 Batch    5/6   train_loss = 0.301\n",
      "Epoch 201 Batch    4/6   train_loss = 0.313\n",
      "Epoch 202 Batch    3/6   train_loss = 0.300\n",
      "Epoch 203 Batch    2/6   train_loss = 0.310\n",
      "Epoch 204 Batch    1/6   train_loss = 0.286\n",
      "Epoch 205 Batch    0/6   train_loss = 0.293\n",
      "Epoch 205 Batch    5/6   train_loss = 0.272\n",
      "Epoch 206 Batch    4/6   train_loss = 0.282\n",
      "Epoch 207 Batch    3/6   train_loss = 0.275\n",
      "Epoch 208 Batch    2/6   train_loss = 0.285\n",
      "Epoch 209 Batch    1/6   train_loss = 0.260\n",
      "Epoch 210 Batch    0/6   train_loss = 0.275\n",
      "Epoch 210 Batch    5/6   train_loss = 0.258\n",
      "Epoch 211 Batch    4/6   train_loss = 0.260\n",
      "Epoch 212 Batch    3/6   train_loss = 0.258\n",
      "Epoch 213 Batch    2/6   train_loss = 0.265\n",
      "Epoch 214 Batch    1/6   train_loss = 0.243\n",
      "Epoch 215 Batch    0/6   train_loss = 0.249\n",
      "Epoch 215 Batch    5/6   train_loss = 0.231\n",
      "Epoch 216 Batch    4/6   train_loss = 0.236\n",
      "Epoch 217 Batch    3/6   train_loss = 0.229\n",
      "Epoch 218 Batch    2/6   train_loss = 0.233\n",
      "Epoch 219 Batch    1/6   train_loss = 0.217\n",
      "Epoch 220 Batch    0/6   train_loss = 0.224\n",
      "Epoch 220 Batch    5/6   train_loss = 0.208\n",
      "Epoch 221 Batch    4/6   train_loss = 0.213\n",
      "Epoch 222 Batch    3/6   train_loss = 0.209\n",
      "Epoch 223 Batch    2/6   train_loss = 0.215\n",
      "Epoch 224 Batch    1/6   train_loss = 0.201\n",
      "Epoch 225 Batch    0/6   train_loss = 0.206\n",
      "Epoch 225 Batch    5/6   train_loss = 0.195\n",
      "Epoch 226 Batch    4/6   train_loss = 0.199\n",
      "Epoch 227 Batch    3/6   train_loss = 0.197\n",
      "Epoch 228 Batch    2/6   train_loss = 0.203\n",
      "Epoch 229 Batch    1/6   train_loss = 0.191\n",
      "Epoch 230 Batch    0/6   train_loss = 0.196\n",
      "Epoch 230 Batch    5/6   train_loss = 0.185\n",
      "Epoch 231 Batch    4/6   train_loss = 0.189\n",
      "Epoch 232 Batch    3/6   train_loss = 0.187\n",
      "Epoch 233 Batch    2/6   train_loss = 0.189\n",
      "Epoch 234 Batch    1/6   train_loss = 0.180\n",
      "Epoch 235 Batch    0/6   train_loss = 0.186\n",
      "Epoch 235 Batch    5/6   train_loss = 0.174\n",
      "Epoch 236 Batch    4/6   train_loss = 0.176\n",
      "Epoch 237 Batch    3/6   train_loss = 0.177\n",
      "Epoch 238 Batch    2/6   train_loss = 0.179\n",
      "Epoch 239 Batch    1/6   train_loss = 0.171\n",
      "Epoch 240 Batch    0/6   train_loss = 0.177\n",
      "Epoch 240 Batch    5/6   train_loss = 0.166\n",
      "Epoch 241 Batch    4/6   train_loss = 0.168\n",
      "Epoch 242 Batch    3/6   train_loss = 0.170\n",
      "Epoch 243 Batch    2/6   train_loss = 0.171\n",
      "Epoch 244 Batch    1/6   train_loss = 0.164\n",
      "Epoch 245 Batch    0/6   train_loss = 0.170\n",
      "Epoch 245 Batch    5/6   train_loss = 0.161\n",
      "Epoch 246 Batch    4/6   train_loss = 0.162\n",
      "Epoch 247 Batch    3/6   train_loss = 0.164\n",
      "Epoch 248 Batch    2/6   train_loss = 0.165\n",
      "Epoch 249 Batch    1/6   train_loss = 0.159\n",
      "Epoch 250 Batch    0/6   train_loss = 0.165\n",
      "Epoch 250 Batch    5/6   train_loss = 0.156\n",
      "Epoch 251 Batch    4/6   train_loss = 0.158\n",
      "Epoch 252 Batch    3/6   train_loss = 0.159\n",
      "Epoch 253 Batch    2/6   train_loss = 0.160\n",
      "Epoch 254 Batch    1/6   train_loss = 0.155\n",
      "Epoch 255 Batch    0/6   train_loss = 0.161\n",
      "Epoch 255 Batch    5/6   train_loss = 0.153\n",
      "Epoch 256 Batch    4/6   train_loss = 0.154\n",
      "Epoch 257 Batch    3/6   train_loss = 0.156\n",
      "Epoch 258 Batch    2/6   train_loss = 0.157\n",
      "Epoch 259 Batch    1/6   train_loss = 0.152\n",
      "Epoch 260 Batch    0/6   train_loss = 0.158\n",
      "Epoch 260 Batch    5/6   train_loss = 0.150\n",
      "Epoch 261 Batch    4/6   train_loss = 0.151\n",
      "Epoch 262 Batch    3/6   train_loss = 0.153\n",
      "Epoch 263 Batch    2/6   train_loss = 0.154\n",
      "Epoch 264 Batch    1/6   train_loss = 0.149\n",
      "Epoch 265 Batch    0/6   train_loss = 0.156\n",
      "Epoch 265 Batch    5/6   train_loss = 0.148\n",
      "Epoch 266 Batch    4/6   train_loss = 0.149\n",
      "Epoch 267 Batch    3/6   train_loss = 0.151\n",
      "Epoch 268 Batch    2/6   train_loss = 0.152\n",
      "Epoch 269 Batch    1/6   train_loss = 0.146\n",
      "Epoch 270 Batch    0/6   train_loss = 0.153\n",
      "Epoch 270 Batch    5/6   train_loss = 0.146\n",
      "Epoch 271 Batch    4/6   train_loss = 0.147\n",
      "Epoch 272 Batch    3/6   train_loss = 0.149\n",
      "Epoch 273 Batch    2/6   train_loss = 0.150\n",
      "Epoch 274 Batch    1/6   train_loss = 0.144\n",
      "Epoch 275 Batch    0/6   train_loss = 0.152\n",
      "Epoch 275 Batch    5/6   train_loss = 0.144\n",
      "Epoch 276 Batch    4/6   train_loss = 0.145\n",
      "Epoch 277 Batch    3/6   train_loss = 0.148\n",
      "Epoch 278 Batch    2/6   train_loss = 0.149\n",
      "Epoch 279 Batch    1/6   train_loss = 0.143\n",
      "Epoch 280 Batch    0/6   train_loss = 0.150\n",
      "Epoch 280 Batch    5/6   train_loss = 0.143\n",
      "Epoch 281 Batch    4/6   train_loss = 0.144\n",
      "Epoch 282 Batch    3/6   train_loss = 0.146\n",
      "Epoch 283 Batch    2/6   train_loss = 0.147\n",
      "Epoch 284 Batch    1/6   train_loss = 0.141\n",
      "Epoch 285 Batch    0/6   train_loss = 0.149\n",
      "Epoch 285 Batch    5/6   train_loss = 0.142\n",
      "Epoch 286 Batch    4/6   train_loss = 0.143\n",
      "Epoch 287 Batch    3/6   train_loss = 0.145\n",
      "Epoch 288 Batch    2/6   train_loss = 0.146\n",
      "Epoch 289 Batch    1/6   train_loss = 0.140\n",
      "Epoch 290 Batch    0/6   train_loss = 0.147\n",
      "Epoch 290 Batch    5/6   train_loss = 0.141\n",
      "Epoch 291 Batch    4/6   train_loss = 0.141\n",
      "Epoch 292 Batch    3/6   train_loss = 0.144\n",
      "Epoch 293 Batch    2/6   train_loss = 0.145\n",
      "Epoch 294 Batch    1/6   train_loss = 0.139\n",
      "Epoch 295 Batch    0/6   train_loss = 0.147\n",
      "Epoch 295 Batch    5/6   train_loss = 0.140\n",
      "Epoch 296 Batch    4/6   train_loss = 0.140\n",
      "Epoch 297 Batch    3/6   train_loss = 0.143\n",
      "Epoch 298 Batch    2/6   train_loss = 0.144\n",
      "Epoch 299 Batch    1/6   train_loss = 0.139\n",
      "Model Trained and Saved\n"
     ]
    }
   ],
   "source": [
    "\"\"\"\n",
    "DON'T MODIFY ANYTHING IN THIS CELL\n",
    "\"\"\"\n",
    "#tf.reset_default_graph()\n",
    "batches = get_batches(int_text, batch_size, seq_length)\n",
    "\n",
    "with tf.Session(graph=train_graph) as sess:\n",
    "    sess.run(tf.global_variables_initializer())\n",
    "\n",
    "    for epoch_i in range(num_epochs):\n",
    "        state = sess.run(initial_state, {input_text: batches[0][0]})\n",
    "\n",
    "        for batch_i, (x, y) in enumerate(batches):\n",
    "            feed = {\n",
    "                input_text: x,\n",
    "                targets: y,\n",
    "                initial_state: state,\n",
    "                lr: learning_rate}\n",
    "            train_loss, state, _ = sess.run([cost, final_state, train_op], feed)\n",
    "\n",
    "            # Show every <show_every_n_batches> batches\n",
    "            if (epoch_i * len(batches) + batch_i) % show_every_n_batches == 0:\n",
    "                print('Epoch {:>3} Batch {:>4}/{}   train_loss = {:.3f}'.format(\n",
    "                    epoch_i,\n",
    "                    batch_i,\n",
    "                    len(batches),\n",
    "                    train_loss))\n",
    "\n",
    "    # Save Model\n",
    "    saver = tf.train.Saver()\n",
    "    saver.save(sess, save_dir)\n",
    "    print('Model Trained and Saved')"
   ]
  },
  {
   "cell_type": "markdown",
   "metadata": {},
   "source": [
    "## Save Parameters\n",
    "Save `seq_length` and `save_dir` for generating a new TV script."
   ]
  },
  {
   "cell_type": "code",
   "execution_count": 14,
   "metadata": {},
   "outputs": [],
   "source": [
    "\"\"\"\n",
    "DON'T MODIFY ANYTHING IN THIS CELL\n",
    "\"\"\"\n",
    "# Save parameters for checkpoint\n",
    "helper.save_params((seq_length, save_dir))"
   ]
  },
  {
   "cell_type": "markdown",
   "metadata": {},
   "source": [
    "# Checkpoint"
   ]
  },
  {
   "cell_type": "code",
   "execution_count": 18,
   "metadata": {},
   "outputs": [],
   "source": [
    "\"\"\"\n",
    "DON'T MODIFY ANYTHING IN THIS CELL\n",
    "\"\"\"\n",
    "import tensorflow as tf\n",
    "import numpy as np\n",
    "import helper\n",
    "import problem_unittests as tests\n",
    "\n",
    "_, vocab_to_int, int_to_vocab, token_dict = helper.load_preprocess()\n",
    "seq_length, load_dir = helper.load_params()"
   ]
  },
  {
   "cell_type": "code",
   "execution_count": 20,
   "metadata": {},
   "outputs": [
    {
     "data": {
      "text/plain": [
       "20"
      ]
     },
     "execution_count": 20,
     "metadata": {},
     "output_type": "execute_result"
    }
   ],
   "source": [
    "seq_length"
   ]
  },
  {
   "cell_type": "markdown",
   "metadata": {},
   "source": [
    "## Implement Generate Functions\n",
    "### Get Tensors\n",
    "Get tensors from `loaded_graph` using the function [`get_tensor_by_name()`](https://www.tensorflow.org/api_docs/python/tf/Graph#get_tensor_by_name).  Get the tensors using the following names:\n",
    "- \"input:0\"\n",
    "- \"initial_state:0\"\n",
    "- \"final_state:0\"\n",
    "- \"probs:0\"\n",
    "\n",
    "Return the tensors in the following tuple `(InputTensor, InitialStateTensor, FinalStateTensor, ProbsTensor)` "
   ]
  },
  {
   "cell_type": "code",
   "execution_count": 15,
   "metadata": {},
   "outputs": [
    {
     "name": "stdout",
     "output_type": "stream",
     "text": [
      "Tests Passed\n"
     ]
    }
   ],
   "source": [
    "def get_tensors(loaded_graph):\n",
    "    \"\"\"\n",
    "    Get input, initial state, final state, and probabilities tensor from <loaded_graph>\n",
    "    :param loaded_graph: TensorFlow graph loaded from file\n",
    "    :return: Tuple (InputTensor, InitialStateTensor, FinalStateTensor, ProbsTensor)\n",
    "    \"\"\"\n",
    "    InputTensor = loaded_graph.get_tensor_by_name('input:0')\n",
    "    InitialStateTensor = loaded_graph.get_tensor_by_name('initial_state:0')\n",
    "    FinalStateTensor = loaded_graph.get_tensor_by_name('final_state:0')\n",
    "    ProbsTensor = loaded_graph.get_tensor_by_name('probs:0')\n",
    "    return (InputTensor, InitialStateTensor, FinalStateTensor, ProbsTensor)\n",
    "\n",
    "\n",
    "\"\"\"\n",
    "DON'T MODIFY ANYTHING IN THIS CELL THAT IS BELOW THIS LINE\n",
    "\"\"\"\n",
    "tests.test_get_tensors(get_tensors)"
   ]
  },
  {
   "cell_type": "markdown",
   "metadata": {},
   "source": [
    "### Choose Word\n",
    "Implement the `pick_word()` function to select the next word using `probabilities`."
   ]
  },
  {
   "cell_type": "code",
   "execution_count": 16,
   "metadata": {},
   "outputs": [
    {
     "name": "stdout",
     "output_type": "stream",
     "text": [
      "Tests Passed\n"
     ]
    }
   ],
   "source": [
    "def pick_word(probabilities, int_to_vocab):\n",
    "    \"\"\"\n",
    "    Pick the next word in the generated text\n",
    "    :param probabilities: Probabilites of the next word\n",
    "    :param int_to_vocab: Dictionary of word ids as the keys and words as the values\n",
    "    :return: String of the predicted word\n",
    "    \"\"\"\n",
    "    argmax_pr = np.argmax(probabilities)\n",
    "    next_word = int_to_vocab[argmax_pr]\n",
    "    return next_word\n",
    "\n",
    "\n",
    "\"\"\"\n",
    "DON'T MODIFY ANYTHING IN THIS CELL THAT IS BELOW THIS LINE\n",
    "\"\"\"\n",
    "tests.test_pick_word(pick_word)"
   ]
  },
  {
   "cell_type": "markdown",
   "metadata": {},
   "source": [
    "## Generate TV Script\n",
    "This will generate the TV script for you.  Set `gen_length` to the length of TV script you want to generate."
   ]
  },
  {
   "cell_type": "code",
   "execution_count": 23,
   "metadata": {},
   "outputs": [
    {
     "name": "stdout",
     "output_type": "stream",
     "text": [
      "INFO:tensorflow:Restoring parameters from ./save\n",
      "homer_simpson:(drunk, emotional) ah, i don't care about the color of your skin, lenny. you're sweeter.\n",
      "barney_gumble:(tipsy) hey, you don't do! what you want to that.\n",
      "moe_szyslak: thanks, dad. a big bucks.\n",
      "homer_simpson:(sad) he's thinking?\n",
      "moe_szyslak:(sighs) aw, you coward the back in the period for ya. but uh, is this... you just only close of my thing.\n",
      "moe_szyslak: i gotta look at the back who charged a shotgun) your name\" homer. please, this place of the last business who! it's bein'\" one day.\n",
      "marge_simpson: homer, everybody, you, all right, everybody probably the what of it.(dying noise) three doesn't give me your problems.\n",
      "homer_simpson: well, i can't believe my name when you say that.\n",
      "moe_szyslak:(smoothly) hey, get it!\n",
      "moe_szyslak:(encouraged) coins\n",
      "moe_szyslak: it's a tanked-up throat) homer, moe.\n",
      "homer_simpson:(looking around)\n"
     ]
    }
   ],
   "source": [
    "gen_length = 200\n",
    "# homer_simpson, moe_szyslak, or Barney_Gumble\n",
    "prime_word = 'homer_simpson'\n",
    "\n",
    "\"\"\"\n",
    "DON'T MODIFY ANYTHING IN THIS CELL THAT IS BELOW THIS LINE\n",
    "\"\"\"\n",
    "loaded_graph = tf.Graph()\n",
    "with tf.Session(graph=loaded_graph) as sess:\n",
    "    # Load saved model\n",
    "    loader = tf.train.import_meta_graph(load_dir + '.meta')\n",
    "    loader.restore(sess, load_dir)\n",
    "\n",
    "    # Get Tensors from loaded model\n",
    "    input_text, initial_state, final_state, probs = get_tensors(loaded_graph)\n",
    "\n",
    "    # Sentences generation setup\n",
    "    gen_sentences = [prime_word + ':']\n",
    "    prev_state = sess.run(initial_state, {input_text: np.array([[1]])})\n",
    "\n",
    "    # Generate sentences\n",
    "    for n in range(gen_length):\n",
    "        # Dynamic Input\n",
    "        dyn_input = [[vocab_to_int[word] for word in gen_sentences[-seq_length:]]]\n",
    "        dyn_seq_length = len(dyn_input[0])\n",
    "\n",
    "        # Get Prediction\n",
    "        probabilities, prev_state = sess.run(\n",
    "            [probs, final_state],\n",
    "            {input_text: dyn_input, initial_state: prev_state})\n",
    "        \n",
    "        pred_word = pick_word(probabilities[0][dyn_seq_length-1], int_to_vocab)\n",
    "\n",
    "        gen_sentences.append(pred_word)\n",
    "    \n",
    "    # Remove tokens\n",
    "    tv_script = ' '.join(gen_sentences)\n",
    "    for key, token in token_dict.items():\n",
    "        ending = ' ' if key in ['\\n', '(', '\"'] else ''\n",
    "        tv_script = tv_script.replace(' ' + token.lower(), key)\n",
    "    tv_script = tv_script.replace('\\n ', '\\n')\n",
    "    tv_script = tv_script.replace('( ', '(')\n",
    "        \n",
    "    print(tv_script)"
   ]
  },
  {
   "cell_type": "markdown",
   "metadata": {},
   "source": [
    "# The TV Script is Nonsensical\n",
    "It's ok if the TV script doesn't make any sense.  We trained on less than a megabyte of text.  In order to get good results, you'll have to use a smaller vocabulary or get more data.  Luckily there's more data!  As we mentioned in the beggining of this project, this is a subset of [another dataset](https://www.kaggle.com/wcukierski/the-simpsons-by-the-data).  We didn't have you train on all the data, because that would take too long.  However, you are free to train your neural network on all the data.  After you complete the project, of course.\n",
    "# Submitting This Project\n",
    "When submitting this project, make sure to run all the cells before saving the notebook. Save the notebook file as \"dlnd_tv_script_generation.ipynb\" and save it as a HTML file under \"File\" -> \"Download as\". Include the \"helper.py\" and \"problem_unittests.py\" files in your submission."
   ]
  }
 ],
 "metadata": {
  "kernelspec": {
   "display_name": "Python 3",
   "language": "python",
   "name": "python3"
  },
  "language_info": {
   "codemirror_mode": {
    "name": "ipython",
    "version": 3
   },
   "file_extension": ".py",
   "mimetype": "text/x-python",
   "name": "python",
   "nbconvert_exporter": "python",
   "pygments_lexer": "ipython3",
   "version": "3.6.4"
  },
  "widgets": {
   "state": {},
   "version": "1.1.2"
  }
 },
 "nbformat": 4,
 "nbformat_minor": 1
}
